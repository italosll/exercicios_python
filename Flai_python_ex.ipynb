{
  "nbformat": 4,
  "nbformat_minor": 0,
  "metadata": {
    "colab": {
      "name": "Flai_python_ex.ipynb",
      "provenance": [],
      "collapsed_sections": [],
      "authorship_tag": "ABX9TyM34lriIZk2M4Y6NQ61VoLq",
      "include_colab_link": true
    },
    "kernelspec": {
      "name": "python3",
      "display_name": "Python 3"
    }
  },
  "cells": [
    {
      "cell_type": "markdown",
      "metadata": {
        "id": "view-in-github",
        "colab_type": "text"
      },
      "source": [
        "<a href=\"https://colab.research.google.com/github/italosll/exercicios_python/blob/main/Flai_python_ex.ipynb\" target=\"_parent\"><img src=\"https://colab.research.google.com/assets/colab-badge.svg\" alt=\"Open In Colab\"/></a>"
      ]
    },
    {
      "cell_type": "markdown",
      "metadata": {
        "id": "bpVx9J2b29MG"
      },
      "source": [
        "\n",
        "\n",
        "# **Exercício 1**   \n",
        "Considere um balde 🗑️ cuja base possui raio $r_1$ e altura igual ao diâmetro da base. Considere também um balão 🎈 em forma de esfera de raio $r_2$ cheia de água. Faça um programa que verifique se o volume da balão 🎈 cabe no balde 🗑️, dados os valores de $r_1$ e $r_2$.\n",
        "\n"
      ]
    },
    {
      "cell_type": "code",
      "metadata": {
        "id": "Uted9ldH24Xk",
        "cellView": "form"
      },
      "source": [
        "import numpy as np\n",
        "\n",
        "r1 =   2#@param {type:\"integer\"}              R1 -> Balde     \n",
        "r2 =  1#@param {type:\"integer\"}               R2 -> Balao\n",
        "\n"
      ],
      "execution_count": 1,
      "outputs": []
    },
    {
      "cell_type": "code",
      "metadata": {
        "id": "oW8Q26IG-i9n",
        "outputId": "086be640-f335-4e44-c27e-2360fd6a2c2e",
        "colab": {
          "base_uri": "https://localhost:8080/",
          "height": 34
        }
      },
      "source": [
        "# Balde:\n",
        "h = r1 #Altura\n",
        "balde = np.pi * (r1**2) * h\n",
        "\n",
        "# Balão:\n",
        "balao = 4/3 * np.pi * (r2**3)\n",
        "\n",
        "# O conteúdo do balão pode ser acondicionado no balde?\n",
        "if(balde >= balao): print(\"Sim, o conteúdo do balão 🎈 (\",balao,\") cabe no balde 🗑️ (\",balde,\")\")\n",
        "else: print(\"Não, o conteúdo do balão 🎈 (\",balao,\") não cabe no balde 🗑️(\",balde,\")\")\n"
      ],
      "execution_count": 2,
      "outputs": [
        {
          "output_type": "stream",
          "text": [
            "Sim, o conteúdo do balão 🎈 ( 4.1887902047863905 ) cabe no balde 🗑️ ( 25.132741228718345 )\n"
          ],
          "name": "stdout"
        }
      ]
    },
    {
      "cell_type": "markdown",
      "metadata": {
        "id": "UyZV-a8i-aP1"
      },
      "source": [
        "# **Exercício 2**   \n",
        "Crie uma função que simule o jogo do jokempô, isto é, dada a entrada de dois jogadores, retorne a indicação de qual deles venceu."
      ]
    },
    {
      "cell_type": "code",
      "metadata": {
        "id": "EvaxYe-17dpt",
        "cellView": "both"
      },
      "source": [
        "#@title Jokempô Game ✊🏻✌🏻✋🏻\n",
        "\n",
        "\n",
        "Jogador_1 = 'Tesoura' #@param [\"Pedra\", \"Papel\", \"Tesoura\"] {allow-input: false}\n",
        "Jogador_2 = 'Papel' #@param [\"Pedra\", \"Papel\", \"Tesoura\"] {allow-input: false}\n",
        "\n"
      ],
      "execution_count": 3,
      "outputs": []
    },
    {
      "cell_type": "code",
      "metadata": {
        "id": "XECHyDUB-xSE",
        "outputId": "a9f77171-aa05-4b19-e3df-52994225ad20",
        "colab": {
          "base_uri": "https://localhost:8080/",
          "height": 34
        }
      },
      "source": [
        "import pandas as pd\n",
        "\n",
        "def item(jogador):\n",
        "  if(jogador == \"Pedra\") : n = 0\n",
        "  if(jogador == \"Papel\") : n = 1\n",
        "  if(jogador == \"Tesoura\") : n = 2\n",
        "  return n\n",
        "\n",
        "def resultado(escolha,adversario):\n",
        "  for col in df.columns:\n",
        "    if((df.loc[escolha,col]) == adversario):\n",
        "      return col \n",
        "\n",
        "# 'pedra' : 0\n",
        "# 'papel' : 1\n",
        "# 'tesoura': 2\n",
        "\n",
        "n1 = item(Jogador_1)\n",
        "n2 = item(Jogador_2)\n",
        "\n",
        "data = {'ganhou':  [2,0,1],\n",
        "        'perdeu':  [1,2,0], \n",
        "        'empatou': [0,1,2]}\n",
        "\n",
        "df = pd.DataFrame(data)\n",
        "\n",
        "if(resultado(n1,n2)==\"ganhou\"): print(\"O jogador N1 Ganhou\")\n",
        "elif(resultado(n1,n2)==\"perdeu\") : print(\"O jogador N2 Ganhou\")\n",
        "else: print(\"Empate\")"
      ],
      "execution_count": 4,
      "outputs": [
        {
          "output_type": "stream",
          "text": [
            "O jogador N1 Ganhou\n"
          ],
          "name": "stdout"
        }
      ]
    },
    {
      "cell_type": "markdown",
      "metadata": {
        "id": "DVJd8-AVCqTt"
      },
      "source": [
        "# **Exercício 3**   \n",
        "Faça um programa que simule uma slot machine. Uma slot machine é uma máquina muito comum em cassinos. A pessoa puxa uma alavanca e aparecem na tela 3 símbolos aleatoriamente, de uma lista com diversos deles. Se os símbolos forem iguais, então a pessoa ganha. A pessoa entrar com um tanto escolhido de fichas, e joga até que acabe. Quando o programa terminar, uma mensagem resumindo os totais que ela ganhou deve ser exibida.\n",
        "\n",
        "\n",
        "*   *Aqui eu adicionei uma mecânica onde quando o jogador ganha uma rodada ele ganha mais fichas, além do prêmio em dinheiro.*\n",
        "\n",
        "\n"
      ]
    },
    {
      "cell_type": "code",
      "metadata": {
        "id": "KzGC0RgjDIic",
        "outputId": "99837a7b-f135-4833-f723-78bdccf99524",
        "colab": {
          "base_uri": "https://localhost:8080/",
          "height": 639
        }
      },
      "source": [
        "from time import sleep\n",
        "import random\n",
        "\n",
        "# premiação --------------------------------------------\n",
        "#            0     1      2     3      4     5      6\n",
        "machine = [\"🍒\", \"🚀\", \"💖\", \"💎\", \"🥉\", \"🥈\", \"🥇\"];\n",
        "#-------------------------------------------------------\n",
        "\n",
        "def sorteio():return random.choice(machine) + random.choice(machine) + random.choice(machine)\n",
        "\n",
        "tickets = int(input(\" Qtd. tickets? \"))\n",
        "sleep(1)\n",
        "print(\"\\n Iniciando\")\n",
        "sleep(1)\n",
        "dinheiro=0\n",
        "\n",
        "while (tickets>0):\n",
        "\n",
        "  print(\"\\n\\n\\n DIVIRTA-SE, QUE A SORTE CONTIGO ESTEJA!!! \\n\\n\")\n",
        "  resultado = sorteio();\n",
        "\n",
        "  for item in resultado:\n",
        "    sleep(0.6)\n",
        "    print(\" ... \",end = '')\n",
        "    sleep(0.6)\n",
        "    print(item,  end = '')\n",
        "\n",
        "  if(resultado[0] == resultado[1] == resultado[2]): \n",
        "    tickets += machine.index(resultado[0])\n",
        "    dinheiro += 10*machine.index(resultado[0])\n",
        "    print(\"\\n\\n VOCÊ GANHOU \",machine.index(resultado[0]),\" TICKETS E \",10*machine.index(resultado[0]),\"REAIS\" )\n",
        "  else:\n",
        "    tickets -=1\n",
        "\n",
        "  if(tickets<=0): break\n",
        "  print(\"\\n\\n\\n Você tem \", tickets, \"tickets\" ,end = '');\n",
        "  continuar = str(input(\" Continuar?  \"))\n",
        "  if(continuar!=\"sim\"): break\n",
        "  print('\\n','_'*100)\n",
        "\n",
        "print(\"\\n\\n VOCÊ GANHOU UM TOTAL DE\",dinheiro,\"REAIS\" )"
      ],
      "execution_count": 5,
      "outputs": [
        {
          "output_type": "stream",
          "text": [
            " Qtd. tickets? 3\n",
            "\n",
            " Iniciando\n",
            "\n",
            "\n",
            "\n",
            " DIVIRTA-SE, QUE A SORTE CONTIGO ESTEJA!!! \n",
            "\n",
            "\n",
            " ... 🥈 ... 🥉 ... 🥉\n",
            "\n",
            "\n",
            " Você tem  2 tickets Continuar?  sim\n",
            "\n",
            " ____________________________________________________________________________________________________\n",
            "\n",
            "\n",
            "\n",
            " DIVIRTA-SE, QUE A SORTE CONTIGO ESTEJA!!! \n",
            "\n",
            "\n",
            " ... 🥉 ... 💎 ... 🚀\n",
            "\n",
            "\n",
            " Você tem  1 tickets Continuar?  sim\n",
            "\n",
            " ____________________________________________________________________________________________________\n",
            "\n",
            "\n",
            "\n",
            " DIVIRTA-SE, QUE A SORTE CONTIGO ESTEJA!!! \n",
            "\n",
            "\n",
            " ... 🍒 ... 🚀 ... 🥈\n",
            "\n",
            " VOCÊ GANHOU UM TOTAL DE 0 REAIS\n"
          ],
          "name": "stdout"
        }
      ]
    },
    {
      "cell_type": "code",
      "metadata": {
        "id": "Oe-7K-XaOWFK",
        "outputId": "a7148a97-2d36-4faa-c8cd-69a8717efd62",
        "colab": {
          "base_uri": "https://localhost:8080/",
          "height": 363
        }
      },
      "source": [
        "# Código base fornecido para resolução do Exercício 4\n",
        "import numpy as np\n",
        "\n",
        "n_album = 636\n",
        "preco_pacote = 2.50\n",
        "preco_album = 8.90\n",
        "simulacoes = 1000\n",
        "\n",
        "# comprando figurinhas até completar o álbum\n",
        "def SimulaAlbum():\n",
        "    album = np.zeros(n_album) \n",
        "    pacotes = 0\n",
        "    while not np.all(album > 0):\n",
        "        pacotinho = np.random.choice(range(n_album), 5)\n",
        "        pacotes += 1\n",
        "\n",
        "        for i in pacotinho:\n",
        "            album[i] += 1\n",
        " \n",
        "    valor_gasto = preco_album + preco_pacote * pacotes \n",
        "    return valor_gasto, pacotes, album\n",
        "\n",
        "# Armazenando o preço de se completar o álbum 1000 vezes\n",
        "album = SimulaAlbum()[2]\n",
        "valores = []\n",
        "for i in range(simulacoes):\n",
        "    valores.append(SimulaAlbum()[0])\n",
        "    if (i+1) % 50 == 0:\n",
        "        print('Simulação: ', i+1, '/', simulacoes)"
      ],
      "execution_count": 7,
      "outputs": [
        {
          "output_type": "stream",
          "text": [
            "Simulação:  50 / 1000\n",
            "Simulação:  100 / 1000\n",
            "Simulação:  150 / 1000\n",
            "Simulação:  200 / 1000\n",
            "Simulação:  250 / 1000\n",
            "Simulação:  300 / 1000\n",
            "Simulação:  350 / 1000\n",
            "Simulação:  400 / 1000\n",
            "Simulação:  450 / 1000\n",
            "Simulação:  500 / 1000\n",
            "Simulação:  550 / 1000\n",
            "Simulação:  600 / 1000\n",
            "Simulação:  650 / 1000\n",
            "Simulação:  700 / 1000\n",
            "Simulação:  750 / 1000\n",
            "Simulação:  800 / 1000\n",
            "Simulação:  850 / 1000\n",
            "Simulação:  900 / 1000\n",
            "Simulação:  950 / 1000\n",
            "Simulação:  1000 / 1000\n"
          ],
          "name": "stdout"
        }
      ]
    },
    {
      "cell_type": "markdown",
      "metadata": {
        "id": "nU3mbhC7NnYi"
      },
      "source": [
        "## **Exercício 4**\n",
        "\n",
        "Considere o contexto do projeto do álbum de figurinhas e responda as perguntas adicionais: \n",
        "1. Quantas vezes saiu a figurinha mais repetida, em média?\n",
        "2. Em média, quantas figurinhas não se repetem ao completar o álbum?\n",
        "3. Qual a probabilidade de se gastar mais que R\\$3000,00 para completar o álbum?\n",
        "4. Qual a probabilidade de se gastar menos que R\\$1500,00 para completar o álbum?\n",
        "5. Qual a probabilidade de se gastar mais do que a média para completar o álbum?\n",
        "6. Qual é o intervalo de confiança de 95% para o gasto ao se completar o álbum?\n",
        "7. Qual o valor médio gasto caso se esteja completando o álbum com mais um amigo?\n",
        "8. Quanto se economiza ao utilizar o cenário da questão 7?\n",
        "9. Qual o valor médio gasto caso se esteja completando o álbum com mais dois amigos?\n",
        "10. Quanto se economiza ao utilizar o cenário da questão 9?"
      ]
    },
    {
      "cell_type": "code",
      "metadata": {
        "id": "Q7tVUBnVN46U",
        "outputId": "a6d24605-bc9e-4925-e16a-ca9447ffb4f0",
        "colab": {
          "base_uri": "https://localhost:8080/",
          "height": 34
        }
      },
      "source": [
        "# Quantas vezes saiu a figurinha mais repetida, em média?\n",
        "# Resposta Questão 1\n",
        "\n",
        "def qtd_fig_mais_repetida_em_media():\n",
        "  album_completo = album.astype(int)\n",
        "  mais_repetida = max(album_completo)\n",
        "  quantidade=0\n",
        "\n",
        "  for i in album_completo:\n",
        "    if( i == mais_repetida):\n",
        "      quantidade +=1\n",
        "\n",
        "  return(mais_repetida/quantidade)\n",
        "\n",
        "print(\"A figurinha mais repetida, em média saiu \",qtd_fig_mais_repetida_em_media(),\" vezes\")"
      ],
      "execution_count": 10,
      "outputs": [
        {
          "output_type": "stream",
          "text": [
            "A figurinha mais repetida, em média saiu  17.0  vezes\n"
          ],
          "name": "stdout"
        }
      ]
    },
    {
      "cell_type": "code",
      "metadata": {
        "id": "5IVSmV1PN-mQ",
        "outputId": "01d8d9d9-2779-4285-8665-4e6636c57720",
        "colab": {
          "base_uri": "https://localhost:8080/",
          "height": 34
        }
      },
      "source": [
        "# Em média, quantas figurinhas não se repetem ao completar o álbum?\n",
        "# Resposta Questão 2\n",
        "\n",
        "def fig_nao_repete_em_media():\n",
        "  album_completo = album.astype(int)\n",
        "  quantidade=0\n",
        "\n",
        "  for i in album_completo:\n",
        "    if( i == 1):\n",
        "      quantidade +=1\n",
        "      \n",
        "  return(round(quantidade/album_completo.shape[0],2))\n",
        "\n",
        "\n",
        "print(\"Em média, \",fig_nao_repete_em_media(),\" figurinhas não se repetem ao completar o álbum\")"
      ],
      "execution_count": 12,
      "outputs": [
        {
          "output_type": "stream",
          "text": [
            "Em média,  0.01  figurinhas não se repetem ao completar o álbum\n"
          ],
          "name": "stdout"
        }
      ]
    },
    {
      "cell_type": "code",
      "metadata": {
        "id": "1wlHtZTcN-78",
        "outputId": "48f80277-6cd9-46a4-d8c9-bceec21d8b68",
        "colab": {
          "base_uri": "https://localhost:8080/",
          "height": 34
        }
      },
      "source": [
        "# Qual a probabilidade de se gastar mais que R$3000,00 para completar o álbum?\n",
        "# Resposta Questão 3\n",
        "\n",
        "gastar_mais_que_tres_mil = 0\n",
        "\n",
        "for i in valores:\n",
        "  if i > 3000 :\n",
        "    gastar_mais_que_tres_mil += 1\n",
        "\n",
        "\n",
        "print(\"A probabilidade de se gastar mais que R$3000,00  para completar o álbum é \",gastar_mais_que_tres_mil/len(valores))"
      ],
      "execution_count": 13,
      "outputs": [
        {
          "output_type": "stream",
          "text": [
            "A probabilidade de se gastar mais que R$3000,00  para completar o álbum é  0.032\n"
          ],
          "name": "stdout"
        }
      ]
    },
    {
      "cell_type": "code",
      "metadata": {
        "id": "KIYOlRSqN_GV",
        "outputId": "8fc788ac-7448-4e4c-c3b7-642e13df5a70",
        "colab": {
          "base_uri": "https://localhost:8080/",
          "height": 34
        }
      },
      "source": [
        "# Qual a probabilidade de se gastar menos que R$1500,00 para completar o álbum?\n",
        "# Resposta Questão 4\n",
        "\n",
        "gastar_menos_que_mil_quinhentos = 0\n",
        "\n",
        "for i in valores:\n",
        "  if i < 1500 :\n",
        "    gastar_menos_que_mil_quinhentos += 1\n",
        "\n",
        "print(\"A probabilidade de se gastar menos que R$1500,00 para completar o álbum é \",gastar_menos_que_mil_quinhentos/len(valores))"
      ],
      "execution_count": 15,
      "outputs": [
        {
          "output_type": "stream",
          "text": [
            "A probabilidade de se gastar menos que R$1500,00 para completar o álbum é  0.006\n"
          ],
          "name": "stdout"
        }
      ]
    },
    {
      "cell_type": "code",
      "metadata": {
        "id": "VLttSO3DN_QP"
      },
      "source": [
        "# Qual a probabilidade de se gastar mais do que a média para completar o álbum?\n",
        "# Resposta Questão 5\n",
        "\n",
        "gastar_mais_que_a_media = 0\n",
        "\n",
        "for i in valores:\n",
        "  if i > round(np.mean(valores), 2) :\n",
        "    gastar_mais_que_a_media += 1\n",
        "\n",
        "\n",
        "print(\"A probabilidade de se gastar mais do que a média para completar o álbum é \",gastar_mais_que_a_media/len(valores))"
      ],
      "execution_count": null,
      "outputs": []
    },
    {
      "cell_type": "code",
      "metadata": {
        "id": "MvknSbpeN_ZT",
        "outputId": "45c5d558-759d-4196-8ab6-357a0b5ba132",
        "colab": {
          "base_uri": "https://localhost:8080/",
          "height": 34
        }
      },
      "source": [
        "# Qual é o intervalo de confiança de 95% para o gasto ao se completar o álbum?\n",
        "# Resposta Questão 6\n",
        "\n",
        "print(\"O intervalo de confiança de 95% para o gasto ao se completar o álbum é \", np.quantile(valores, [0.025 , 0.975]))\n"
      ],
      "execution_count": 16,
      "outputs": [
        {
          "output_type": "stream",
          "text": [
            "O intervalo de confiança de 95% para o gasto ao se completar o álbum é  [1633.775 3094.025]\n"
          ],
          "name": "stdout"
        }
      ]
    },
    {
      "cell_type": "code",
      "metadata": {
        "id": "9J_fUJNSN_4l"
      },
      "source": [
        "# Qual o valor médio gasto caso se esteja completando o álbum com mais um amigo?\n",
        "# Resposta Questão 7\n",
        "import numpy as np\n",
        "\n",
        "def simula_album_dois_amigos():\n",
        "    album_amigo_1 = np.zeros(n_album) \n",
        "    album_amigo_2 = np.zeros(n_album) \n",
        "    pacotes = 0\n",
        "\n",
        "    while not np.all(album_amigo_2 > 0):\n",
        "        pacotinho = np.random.choice(range(n_album), 5)\n",
        "        pacotes +=1\n",
        "        for i in pacotinho:\n",
        "          if album_amigo_1[i] == 0 : album_amigo_1[i] += 1\n",
        "          else: album_amigo_2[i] += 1\n",
        "          \n",
        "    valor_total_gasto = preco_album + preco_pacote * pacotes\n",
        "    return valor_total_gasto, pacotes, album_amigo_1, album_amigo_2"
      ],
      "execution_count": 17,
      "outputs": []
    },
    {
      "cell_type": "code",
      "metadata": {
        "id": "ZWC4lIaHN_Kw",
        "outputId": "49ec464a-2ec3-413e-e4a3-365ec7085b03",
        "colab": {
          "base_uri": "https://localhost:8080/",
          "height": 363
        }
      },
      "source": [
        "valores_album_dois_amigos = []\n",
        "for i in range(simulacoes):\n",
        "    valores_album_dois_amigos.append(simula_album_dois_amigos()[0])\n",
        "    if (i+1) % 50 == 0:\n",
        "        print('Simulação: ', i+1, '/', simulacoes)"
      ],
      "execution_count": 18,
      "outputs": [
        {
          "output_type": "stream",
          "text": [
            "Simulação:  50 / 1000\n",
            "Simulação:  100 / 1000\n",
            "Simulação:  150 / 1000\n",
            "Simulação:  200 / 1000\n",
            "Simulação:  250 / 1000\n",
            "Simulação:  300 / 1000\n",
            "Simulação:  350 / 1000\n",
            "Simulação:  400 / 1000\n",
            "Simulação:  450 / 1000\n",
            "Simulação:  500 / 1000\n",
            "Simulação:  550 / 1000\n",
            "Simulação:  600 / 1000\n",
            "Simulação:  650 / 1000\n",
            "Simulação:  700 / 1000\n",
            "Simulação:  750 / 1000\n",
            "Simulação:  800 / 1000\n",
            "Simulação:  850 / 1000\n",
            "Simulação:  900 / 1000\n",
            "Simulação:  950 / 1000\n",
            "Simulação:  1000 / 1000\n"
          ],
          "name": "stdout"
        }
      ]
    },
    {
      "cell_type": "code",
      "metadata": {
        "id": "YlfzbnG7Q8Y2",
        "outputId": "26418bd3-553f-4976-96dc-90866b769591",
        "colab": {
          "base_uri": "https://localhost:8080/",
          "height": 34
        }
      },
      "source": [
        "print(\"O valor médio gasto caso se esteja completando o álbum com mais um amigo é\",  round(np.mean(valores_album_dois_amigos), 2), \" Reais\")"
      ],
      "execution_count": 22,
      "outputs": [
        {
          "output_type": "stream",
          "text": [
            "O valor médio gasto caso se esteja completando o álbum com mais um amigo é 2998.55  Reais\n"
          ],
          "name": "stdout"
        }
      ]
    },
    {
      "cell_type": "code",
      "metadata": {
        "id": "lRZBV_SXN_AY",
        "outputId": "d43078a0-f69f-4b76-be63-17ce56960702",
        "colab": {
          "base_uri": "https://localhost:8080/",
          "height": 34
        }
      },
      "source": [
        "# Quanto se economiza ao utilizar o cenário da questão 7?\n",
        "# Resposta Questão 8\n",
        "\n",
        "valor_uma_pessoa = round(np.mean(valores), 2)\n",
        "valor_duas_pessoas = round(np.mean(valores_album_dois_amigos)/2, 2)\n",
        "print(\"Ao utilizar o cenário da questão 7 economiza se\", round(valor_uma_pessoa - valor_duas_pessoas , 2), \"Reais\")"
      ],
      "execution_count": 28,
      "outputs": [
        {
          "output_type": "stream",
          "text": [
            "Ao utilizar o cenário da questão 7 economiza se 737.09 Reais\n"
          ],
          "name": "stdout"
        }
      ]
    },
    {
      "cell_type": "code",
      "metadata": {
        "id": "lDgY9uQMN-2L"
      },
      "source": [
        "# Qual o valor médio gasto caso se esteja completando o álbum com mais dois amigos?\n",
        "# Resposta Questão 9\n",
        "\n",
        "import numpy as np\n",
        "\n",
        "def simula_album_tres_amigos():\n",
        "    alb_amigo_1 = np.zeros(n_album) \n",
        "    alb_amigo_2 = np.zeros(n_album) \n",
        "    alb_amigo_3 = np.zeros(n_album) \n",
        "    pacotes = 0\n",
        "\n",
        "    while not np.all(alb_amigo_3 > 0):\n",
        "        pacotinho = np.random.choice(range(n_album), 5)\n",
        "        pacotes +=1\n",
        "        for i in pacotinho:\n",
        "          if alb_amigo_1[i] == 0 : alb_amigo_1[i] += 1\n",
        "          elif alb_amigo_2[i] == 0 : alb_amigo_2[i] += 1\n",
        "          else: alb_amigo_3[i] += 1\n",
        "          \n",
        "    valor_total_gasto = preco_album + preco_pacote * pacotes\n",
        "    return valor_total_gasto, pacotes, alb_amigo_1, alb_amigo_2,alb_amigo_3"
      ],
      "execution_count": 31,
      "outputs": []
    },
    {
      "cell_type": "code",
      "metadata": {
        "id": "4YEui_AoN-Mh",
        "outputId": "9db80bd8-cb11-46e5-886f-7dcf09da462d",
        "colab": {
          "base_uri": "https://localhost:8080/",
          "height": 363
        }
      },
      "source": [
        "valores_album_tres_amigos = []\n",
        "for i in range(simulacoes):\n",
        "    valores_album_tres_amigos.append(simula_album_tres_amigos()[0])\n",
        "    if (i+1) % 50 == 0:\n",
        "        print('Simulação: ', i+1, '/', simulacoes)"
      ],
      "execution_count": 32,
      "outputs": [
        {
          "output_type": "stream",
          "text": [
            "Simulação:  50 / 1000\n",
            "Simulação:  100 / 1000\n",
            "Simulação:  150 / 1000\n",
            "Simulação:  200 / 1000\n",
            "Simulação:  250 / 1000\n",
            "Simulação:  300 / 1000\n",
            "Simulação:  350 / 1000\n",
            "Simulação:  400 / 1000\n",
            "Simulação:  450 / 1000\n",
            "Simulação:  500 / 1000\n",
            "Simulação:  550 / 1000\n",
            "Simulação:  600 / 1000\n",
            "Simulação:  650 / 1000\n",
            "Simulação:  700 / 1000\n",
            "Simulação:  750 / 1000\n",
            "Simulação:  800 / 1000\n",
            "Simulação:  850 / 1000\n",
            "Simulação:  900 / 1000\n",
            "Simulação:  950 / 1000\n",
            "Simulação:  1000 / 1000\n"
          ],
          "name": "stdout"
        }
      ]
    },
    {
      "cell_type": "code",
      "metadata": {
        "id": "thi5o88mPMmI",
        "outputId": "44055ce3-3824-4af3-ebb2-17cfcfe2e0bb",
        "colab": {
          "base_uri": "https://localhost:8080/",
          "height": 34
        }
      },
      "source": [
        "print(\"O valor médio gasto caso se esteja completando o álbum com mais dois amigos é\",  round((np.mean(valores_album_tres_amigos)/3),2), \"Reais\")"
      ],
      "execution_count": 41,
      "outputs": [
        {
          "output_type": "stream",
          "text": [
            "O valor médio gasto caso se esteja completando o álbum com mais dois amigos é 1207.76 Reais\n"
          ],
          "name": "stdout"
        }
      ]
    },
    {
      "cell_type": "code",
      "metadata": {
        "id": "cOoVOynJPM0v",
        "outputId": "59bed162-c821-43d1-bae7-29880d2cfda3",
        "colab": {
          "base_uri": "https://localhost:8080/",
          "height": 34
        }
      },
      "source": [
        "# Quanto se economiza ao utilizar o cenário da questão 9?\n",
        "# Resposta Questão 10\n",
        "valor_tres_pessoas = np.mean(valores_album_tres_amigos)/3\n",
        "print(\"Ao utilizar o cenário da questão 7 economiza se\", round(valor_uma_pessoa - valor_tres_pessoas , 2), \"Reais\")"
      ],
      "execution_count": 42,
      "outputs": [
        {
          "output_type": "stream",
          "text": [
            "Ao utilizar o cenário da questão 7 economiza se 1028.61 Reais\n"
          ],
          "name": "stdout"
        }
      ]
    }
  ]
}