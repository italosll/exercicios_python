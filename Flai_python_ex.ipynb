{
  "nbformat": 4,
  "nbformat_minor": 0,
  "metadata": {
    "colab": {
      "name": "Flai_python_ex.ipynb",
      "provenance": [],
      "collapsed_sections": [],
      "toc_visible": true,
      "authorship_tag": "ABX9TyMQVGqLrdISuCFx+OfDMan3",
      "include_colab_link": true
    },
    "kernelspec": {
      "name": "python3",
      "display_name": "Python 3"
    }
  },
  "cells": [
    {
      "cell_type": "markdown",
      "metadata": {
        "id": "view-in-github",
        "colab_type": "text"
      },
      "source": [
        "<a href=\"https://colab.research.google.com/github/italosll/exercicios_python/blob/main/Flai_python_ex.ipynb\" target=\"_parent\"><img src=\"https://colab.research.google.com/assets/colab-badge.svg\" alt=\"Open In Colab\"/></a>"
      ]
    },
    {
      "cell_type": "markdown",
      "metadata": {
        "id": "bpVx9J2b29MG"
      },
      "source": [
        "\n",
        "\n",
        "# **Exercício 1**   \n",
        "Considere um balde 🗑️ cuja base possui raio $r_1$ e altura igual ao diâmetro da base. Considere também um balão 🎈 em forma de esfera de raio $r_2$ cheia de água. Faça um programa que verifique se o volume da balão 🎈 cabe no balde 🗑️, dados os valores de $r_1$ e $r_2$.\n",
        "\n"
      ]
    },
    {
      "cell_type": "code",
      "metadata": {
        "id": "Uted9ldH24Xk",
        "cellView": "form"
      },
      "source": [
        "import numpy as np\n",
        "\n",
        "r1 =   2#@param {type:\"integer\"}              R1 -> Balde     \n",
        "r2 =  1#@param {type:\"integer\"}               R2 -> Balao\n",
        "\n"
      ],
      "execution_count": null,
      "outputs": []
    },
    {
      "cell_type": "code",
      "metadata": {
        "id": "oW8Q26IG-i9n",
        "outputId": "0603a033-1395-4344-fdf5-f85ec5f9c93c",
        "colab": {
          "base_uri": "https://localhost:8080/",
          "height": 34
        }
      },
      "source": [
        "# Balde:\n",
        "h = r1 #Altura\n",
        "balde = np.pi * (r1**2) * h\n",
        "\n",
        "# Balão:\n",
        "balao = 4/3 * np.pi * (r2**3)\n",
        "\n",
        "# O conteúdo do balão pode ser acondicionado no balde?\n",
        "if(balde >= balao): print(\"Sim, o conteúdo do balão 🎈 (\",balao,\") cabe no balde 🗑️ (\",balde,\")\")\n",
        "else: print(\"Não, o conteúdo do balão 🎈 (\",balao,\") não cabe no balde 🗑️(\",balde,\")\")\n"
      ],
      "execution_count": null,
      "outputs": [
        {
          "output_type": "stream",
          "text": [
            "Sim, o conteúdo do balão 🎈 ( 4.1887902047863905 ) cabe no balde 🗑️ ( 25.132741228718345 )\n"
          ],
          "name": "stdout"
        }
      ]
    },
    {
      "cell_type": "markdown",
      "metadata": {
        "id": "UyZV-a8i-aP1"
      },
      "source": [
        "# **Exercício 2**   \n",
        "Crie uma função que simule o jogo do jokempô, isto é, dada a entrada de dois jogadores, retorne a indicação de qual deles venceu."
      ]
    },
    {
      "cell_type": "code",
      "metadata": {
        "id": "EvaxYe-17dpt",
        "cellView": "both"
      },
      "source": [
        "#@title Jokenpô Game ✊🏻✌🏻✋🏻\n",
        "\n",
        "\n",
        "Jogador_1 = 'Tesoura' #@param [\"Pedra\", \"Papel\", \"Tesoura\"] {allow-input: false}\n",
        "Jogador_2 = 'Papel' #@param [\"Pedra\", \"Papel\", \"Tesoura\"] {allow-input: false}\n",
        "\n"
      ],
      "execution_count": null,
      "outputs": []
    },
    {
      "cell_type": "code",
      "metadata": {
        "id": "XECHyDUB-xSE",
        "outputId": "c576f104-8ed6-4c3a-9552-20130d7c617b",
        "colab": {
          "base_uri": "https://localhost:8080/",
          "height": 34
        }
      },
      "source": [
        "import pandas as pd\n",
        "\n",
        "def item(jogador):\n",
        "  if(jogador == \"Pedra\") : n = 0\n",
        "  if(jogador == \"Papel\") : n = 1\n",
        "  if(jogador == \"Tesoura\") : n = 2\n",
        "  return n\n",
        "\n",
        "def resultado(escolha,adversario):\n",
        "  for col in df.columns:\n",
        "    if((df.loc[escolha,col]) == adversario):\n",
        "      return col \n",
        "\n",
        "# 'pedra' : 0\n",
        "# 'papel' : 1\n",
        "# 'tesoura': 2\n",
        "\n",
        "n1 = item(Jogador_1)\n",
        "n2 = item(Jogador_2)\n",
        "\n",
        "data = {'ganhou':  [2,0,1],\n",
        "        'perdeu':  [1,2,0], \n",
        "        'empatou': [0,1,2]}\n",
        "\n",
        "df = pd.DataFrame(data)\n",
        "\n",
        "if(resultado(n1,n2)==\"ganhou\"): print(\"O jogador N1 Ganhou\")\n",
        "elif(resultado(n1,n2)==\"perdeu\") : print(\"O jogador N2 Ganhou\")\n",
        "else: print(\"Empate\")"
      ],
      "execution_count": null,
      "outputs": [
        {
          "output_type": "stream",
          "text": [
            "O jogador N1 Ganhou\n"
          ],
          "name": "stdout"
        }
      ]
    },
    {
      "cell_type": "markdown",
      "metadata": {
        "id": "DVJd8-AVCqTt"
      },
      "source": [
        "# **Exercício 3**   \n",
        "Faça um programa que simule uma slot machine. Uma slot machine é uma máquina muito comum em cassinos. A pessoa puxa uma alavanca e aparecem na tela 3 símbolos aleatoriamente, de uma lista com diversos deles. Se os símbolos forem iguais, então a pessoa ganha. A pessoa entrar com um tanto escolhido de fichas, e joga até que acabe. Quando o programa terminar, uma mensagem resumindo os totais que ela ganhou deve ser exibida.\n",
        "\n",
        "\n",
        "*   *Aqui eu adicionei uma mecânica onde quando o jogador ganha uma rodada ele ganha mais fichas, além do prêmio em dinheiro.*\n",
        "\n",
        "\n"
      ]
    },
    {
      "cell_type": "code",
      "metadata": {
        "id": "KzGC0RgjDIic",
        "outputId": "cb328efd-c2d2-4bb1-d81a-65a9751eab8e",
        "colab": {
          "base_uri": "https://localhost:8080/",
          "height": 540
        }
      },
      "source": [
        "from time import sleep\n",
        "import random\n",
        "\n",
        "# premiação --------------------------------------------\n",
        "#            0     1      2     3      4     5      6\n",
        "machine = [\"🍒\", \"🚀\", \"💖\", \"💎\", \"🥉\", \"🥈\", \"🥇\"];\n",
        "#-------------------------------------------------------\n",
        "\n",
        "def sorteio():return random.choice(machine) + random.choice(machine) + random.choice(machine)\n",
        "\n",
        "tickets = int(input(\" Qtd. tickets? \"))\n",
        "sleep(1)\n",
        "print(\"\\n Iniciando\")\n",
        "sleep(1)\n",
        "dinheiro=0\n",
        "\n",
        "while (tickets>0):\n",
        "\n",
        "  print(\"\\n\\n\\n DIVIRTA-SE, QUE A SORTE CONTIGO ESTEJA!!! \\n\\n\")\n",
        "  resultado = sorteio();\n",
        "\n",
        "  for item in resultado:\n",
        "    sleep(0.6)\n",
        "    print(\" ... \",end = '')\n",
        "    sleep(0.6)\n",
        "    print(item,  end = '')\n",
        "\n",
        "  if(resultado[0] == resultado[1] == resultado[2]): \n",
        "    tickets += machine.index(resultado[0])\n",
        "    dinheiro += 10*machine.index(resultado[0])\n",
        "    print(\"\\n\\n VOCÊ GANHOU \",machine.index(resultado[0]),\" TICKETS E \",10*machine.index(resultado[0]),\"REAIS\" )\n",
        "  else:\n",
        "    tickets -=1\n",
        "\n",
        "  if(tickets<=0): break\n",
        "  print(\"\\n\\n\\n Você tem \", tickets, \"tickets\" ,end = '');\n",
        "  continuar = str(input(\" Continuar?  \"))\n",
        "  if(continuar!=\"sim\"): break\n",
        "  print('\\n','_'*100)\n",
        "\n",
        "print(\"\\n\\n VOCÊ GANHOU UM TOTAL DE\",dinheiro,\"REAIS\" )"
      ],
      "execution_count": null,
      "outputs": [
        {
          "output_type": "stream",
          "text": [
            " Qtd. tickets? 3\n",
            "\n",
            " Iniciando\n",
            "\n",
            "\n",
            "\n",
            " DIVIRTA-SE, QUE A SORTE CONTIGO ESTEJA!!! \n",
            "\n",
            "\n",
            " ... 🥈 ... 🥇 ... 🥉\n",
            "\n",
            "\n",
            " Você tem  2 tickets Continuar?  sim\n",
            "\n",
            " ____________________________________________________________________________________________________\n",
            "\n",
            "\n",
            "\n",
            " DIVIRTA-SE, QUE A SORTE CONTIGO ESTEJA!!! \n",
            "\n",
            "\n",
            " ... 💖 ... 💖 ... 💖\n",
            "\n",
            " VOCÊ GANHOU  2  TICKETS E  20 REAIS\n",
            "\n",
            "\n",
            "\n",
            " Você tem  4 tickets"
          ],
          "name": "stdout"
        }
      ]
    }
  ]
}